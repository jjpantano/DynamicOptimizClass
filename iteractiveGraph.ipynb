{
  "nbformat": 4,
  "nbformat_minor": 0,
  "metadata": {
    "colab": {
      "name": "Copy of Untitled1.ipynb",
      "version": "0.3.2",
      "provenance": [],
      "private_outputs": true,
      "include_colab_link": true
    },
    "kernelspec": {
      "name": "python3",
      "display_name": "Python 3"
    }
  },
  "cells": [
    {
      "cell_type": "markdown",
      "metadata": {
        "id": "view-in-github",
        "colab_type": "text"
      },
      "source": [
        "<a href=\"https://colab.research.google.com/github/jjpantano/DynamicOptimizClass/blob/Intermediate-work/iteractiveGraph.ipynb\" target=\"_parent\"><img src=\"https://colab.research.google.com/assets/colab-badge.svg\" alt=\"Open In Colab\"/></a>"
      ]
    },
    {
      "metadata": {
        "id": "kLu6bv-Q5pQB",
        "colab_type": "code",
        "colab": {}
      },
      "cell_type": "code",
      "source": [
        "# now plot a dynamic graph\n",
        "\n",
        "#first the imports \n",
        "\n",
        "import scipy.stats as stats\n",
        "import matplotlib.pyplot as plt\n",
        "import numpy as np\n",
        "import time"
      ],
      "execution_count": 0,
      "outputs": []
    },
    {
      "metadata": {
        "id": "khGNRpOD6yzi",
        "colab_type": "code",
        "colab": {}
      },
      "cell_type": "code",
      "source": [
        "import random\n",
        "N = 40\n",
        "M = 100\n",
        "a = [[random.random() for i in range(N)] for j in range(M)]"
      ],
      "execution_count": 0,
      "outputs": []
    },
    {
      "metadata": {
        "id": "ovgE6Nir5tBw",
        "colab_type": "code",
        "colab": {}
      },
      "cell_type": "code",
      "source": [
        "#initialise the graph and settings\n",
        "fig = plt.figure()\n",
        "ax = fig.add_subplot(111)\n",
        "plt.ion()\n",
        "\n",
        "# fig.show()\n",
        "# fig.canvas.draw()\n",
        "\n",
        "#iterate - plot, erase\n",
        "for i in range(0,M):\n",
        "    #print i\n",
        "#     ax.clear() # - Clear\n",
        "    clear_output()\n",
        "    h = sorted(a[i])\n",
        "    fit = stats.norm.pdf(h, np.mean(h), np.std(h))\n",
        "    ax.plot(h,fit,'-o') # fit the line\n",
        "    ax.hist(h,normed=True) # fit the histogram\n",
        "    plt.show()  # draw\n",
        "    time.sleep(0.5)    #sleep"
      ],
      "execution_count": 0,
      "outputs": []
    },
    {
      "metadata": {
        "id": "J5QPiEKq6-nu",
        "colab_type": "code",
        "colab": {}
      },
      "cell_type": "code",
      "source": [
        "from IPython.display import clear_output\n",
        "import matplotlib.pyplot as plt\n",
        "from numpy.random import randn\n",
        "from time import sleep\n",
        "\n",
        "\n",
        "# animate over some set of x, y\n",
        "x = np.linspace(-4, 4, 100)\n",
        "y = np.sin(x)\n",
        "\n",
        "\n",
        "for i in range(100):\n",
        "  clear_output()\n",
        "  plt.scatter(x[0:i],y[0:i])\n",
        "  plt.show()\n",
        "#   sleep(2)"
      ],
      "execution_count": 0,
      "outputs": []
    },
    {
      "metadata": {
        "id": "n84YZ0Ej7yGG",
        "colab_type": "code",
        "colab": {}
      },
      "cell_type": "code",
      "source": [
        ""
      ],
      "execution_count": 0,
      "outputs": []
    }
  ]
}