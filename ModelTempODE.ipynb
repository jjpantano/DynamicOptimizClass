{
 "cells": [
  {
   "cell_type": "code",
   "execution_count": 14,
   "metadata": {},
   "outputs": [
    {
     "name": "stdout",
     "output_type": "stream",
     "text": [
      "Using matplotlib backend: Qt5Agg\n"
     ]
    }
   ],
   "source": [
    "%matplotlib\n",
    "from gekko import GEKKO\n",
    "import numpy as np\n",
    "import matplotlib.pyplot as plt"
   ]
  },
  {
   "cell_type": "code",
   "execution_count": 15,
   "metadata": {},
   "outputs": [],
   "source": [
    "m = GEKKO(remote=False)\n",
    "\n",
    "m.time = np.linspace(0,600,601)\n",
    "\n",
    "K = m.FV(value=5/8,lb=0,ub=1)\n",
    "tau = m.Param(value=120)\n",
    "\n",
    "Qd = np.zeros(601)\n",
    "Qd[10:] = 80\n",
    "Qd[200:] = 0\n",
    "Q = m.Param(value=Qd)\n",
    "\n",
    "T_ss = 23 # degC\n",
    "Q_ss = 0  # %\n",
    "\n",
    "T = m.Var(value=T_ss)\n",
    "\n",
    "m.Equation(tau*T.dt()==-(T-T_ss)+K*(Q-Q_ss))\n",
    "\n",
    "m.options.IMODE=4\n",
    "m.solve(disp=False)\n",
    "\n",
    "plt.plot(m.time,Q.value,label=r'$Q_1$')\n",
    "plt.plot(m.time,T.value,label=r'$T_1$')\n",
    "plt.title('IMODE = ' + str(m.options.IMODE))\n",
    "plt.legend([r'$Q_1$',r'$T_1$'])\n",
    "\n",
    "plt.show()"
   ]
  },
  {
   "cell_type": "code",
   "execution_count": null,
   "metadata": {},
   "outputs": [],
   "source": []
  }
 ],
 "metadata": {
  "kernelspec": {
   "display_name": "Python 3",
   "language": "python",
   "name": "python3"
  },
  "language_info": {
   "codemirror_mode": {
    "name": "ipython",
    "version": 3
   },
   "file_extension": ".py",
   "mimetype": "text/x-python",
   "name": "python",
   "nbconvert_exporter": "python",
   "pygments_lexer": "ipython3",
   "version": "3.6.6"
  }
 },
 "nbformat": 4,
 "nbformat_minor": 2
}
